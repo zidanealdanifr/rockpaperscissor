{
  "nbformat": 4,
  "nbformat_minor": 0,
  "metadata": {
    "colab": {
      "name": "ZidaneAldaniFitrahRamadhan_rockpaperscissors.ipynb",
      "provenance": [],
      "collapsed_sections": []
    },
    "kernelspec": {
      "name": "python3",
      "display_name": "Python 3"
    }
  },
  "cells": [
    {
      "cell_type": "code",
      "metadata": {
        "id": "z_3blgLL_zqS"
      },
      "source": [
        "import tensorflow as tf\n",
        "from tensorflow.keras.optimizers import RMSprop\n",
        "from tensorflow.keras.preprocessing.image import ImageDataGenerator\n",
        "from sklearn.model_selection import train_test_split\n",
        "import os"
      ],
      "execution_count": 4,
      "outputs": []
    },
    {
      "cell_type": "code",
      "metadata": {
        "id": "hptIb5-HKeZP",
        "outputId": "684e0210-f1bd-481b-a7da-f64d4f1a20ab",
        "colab": {
          "base_uri": "https://localhost:8080/",
          "height": 224
        }
      },
      "source": [
        "# melakukan download file dalam bentuk zip\n",
        "!wget --no-check-certificate \\\n",
        "https://dicodingacademy.blob.core.windows.net/picodiploma/ml_pemula_academy/rockpaperscissors.zip \\\n",
        "  -O /tmp/rockpaperscissors.zip"
      ],
      "execution_count": 5,
      "outputs": [
        {
          "output_type": "stream",
          "text": [
            "--2020-10-11 23:37:24--  https://dicodingacademy.blob.core.windows.net/picodiploma/ml_pemula_academy/rockpaperscissors.zip\n",
            "Resolving dicodingacademy.blob.core.windows.net (dicodingacademy.blob.core.windows.net)... 52.239.197.36\n",
            "Connecting to dicodingacademy.blob.core.windows.net (dicodingacademy.blob.core.windows.net)|52.239.197.36|:443... connected.\n",
            "HTTP request sent, awaiting response... 200 OK\n",
            "Length: 322873683 (308M) [application/zip]\n",
            "Saving to: ‘/tmp/rockpaperscissors.zip’\n",
            "\n",
            "/tmp/rockpapersciss 100%[===================>] 307.92M  12.2MB/s    in 28s     \n",
            "\n",
            "2020-10-11 23:37:53 (11.1 MB/s) - ‘/tmp/rockpaperscissors.zip’ saved [322873683/322873683]\n",
            "\n"
          ],
          "name": "stdout"
        }
      ]
    },
    {
      "cell_type": "code",
      "metadata": {
        "id": "V7sIObnEKjzP"
      },
      "source": [
        "# melakukan ekstraksi pada file zip\n",
        "import zipfile\n",
        "local_zip = '/tmp/rockpaperscissors.zip'\n",
        "zip_ref = zipfile.ZipFile(local_zip,'r')\n",
        "zip_ref.extractall('/tmp')\n",
        "zip_ref.close()"
      ],
      "execution_count": 6,
      "outputs": []
    },
    {
      "cell_type": "code",
      "metadata": {
        "id": "XmQKWJYMKwHT",
        "outputId": "78885ec1-3858-4c70-d132-0cf795c615b6",
        "colab": {
          "base_uri": "https://localhost:8080/",
          "height": 34
        }
      },
      "source": [
        "os.listdir('/tmp/rockpaperscissors')"
      ],
      "execution_count": 7,
      "outputs": [
        {
          "output_type": "execute_result",
          "data": {
            "text/plain": [
              "['rock', 'README_rpc-cv-images.txt', 'rps-cv-images', 'scissors', 'paper']"
            ]
          },
          "metadata": {
            "tags": []
          },
          "execution_count": 7
        }
      ]
    },
    {
      "cell_type": "code",
      "metadata": {
        "id": "2cLCp3dzKxZC",
        "outputId": "9a2580ee-91fb-4712-a149-d284b952f64d",
        "colab": {
          "base_uri": "https://localhost:8080/",
          "height": 34
        }
      },
      "source": [
        "len(os.listdir('/tmp/rockpaperscissors/rock'))"
      ],
      "execution_count": 8,
      "outputs": [
        {
          "output_type": "execute_result",
          "data": {
            "text/plain": [
              "726"
            ]
          },
          "metadata": {
            "tags": []
          },
          "execution_count": 8
        }
      ]
    },
    {
      "cell_type": "code",
      "metadata": {
        "id": "WnAwjy_sKz_q",
        "outputId": "38226b78-4250-40b5-a308-85f68b7f891c",
        "colab": {
          "base_uri": "https://localhost:8080/",
          "height": 34
        }
      },
      "source": [
        "len(os.listdir('/tmp/rockpaperscissors/scissors'))"
      ],
      "execution_count": 9,
      "outputs": [
        {
          "output_type": "execute_result",
          "data": {
            "text/plain": [
              "750"
            ]
          },
          "metadata": {
            "tags": []
          },
          "execution_count": 9
        }
      ]
    },
    {
      "cell_type": "code",
      "metadata": {
        "id": "u2NukvGqK17K",
        "outputId": "65ec4795-2b88-47f9-b602-ac79586dc791",
        "colab": {
          "base_uri": "https://localhost:8080/",
          "height": 34
        }
      },
      "source": [
        "len(os.listdir('/tmp/rockpaperscissors/paper'))"
      ],
      "execution_count": 10,
      "outputs": [
        {
          "output_type": "execute_result",
          "data": {
            "text/plain": [
              "712"
            ]
          },
          "metadata": {
            "tags": []
          },
          "execution_count": 10
        }
      ]
    },
    {
      "cell_type": "code",
      "metadata": {
        "id": "yXDGMG8uLFHS"
      },
      "source": [
        "# membuat nama direktori\n",
        "base_dir = '/tmp/rockpaperscissors'\n",
        "train_dir = os.path.join(base_dir,'train')\n",
        "validation_dir = os.path.join(base_dir, 'val')\n",
        "\n",
        "# membuat direktori train dan validation\n",
        "os.mkdir(train_dir)\n",
        "os.mkdir(validation_dir)"
      ],
      "execution_count": 11,
      "outputs": []
    },
    {
      "cell_type": "code",
      "metadata": {
        "id": "W9_G9kchLHAc"
      },
      "source": [
        "rock_dir = os.path.join(base_dir,'rock')\n",
        "paper_dir = os.path.join(base_dir, 'paper')\n",
        "scissors_dir = os.path.join(base_dir, 'scissors')"
      ],
      "execution_count": 12,
      "outputs": []
    },
    {
      "cell_type": "code",
      "metadata": {
        "id": "E-fj-fQZLJYr"
      },
      "source": [
        "# memecah direktori rock menjadi data train dan data validation\n",
        "train_rock_dir, val_rock_dir = train_test_split(os.listdir(rock_dir), test_size = 0.4)\n",
        "\n",
        "# memecah direktori paper menjadi data train dan data validation\n",
        "train_rock_dir, val_rock_dir = train_test_split(os.listdir(rock_dir), test_size = 0.4)\n",
        "\n",
        "# memecah direktori scissors menjadi data train dan data validation\n",
        "train_rock_dir, val_rock_dir = train_test_split(os.listdir(rock_dir), test_size = 0.4)"
      ],
      "execution_count": 26,
      "outputs": []
    },
    {
      "cell_type": "code",
      "metadata": {
        "id": "uol6VfFKLLko"
      },
      "source": [
        "train_rock = os.path.join(train_dir, 'rock')\n",
        "train_paper = os.path.join(train_dir, 'paper')\n",
        "train_scissors = os.path.join(train_dir, 'scissors')\n",
        "val_rock = os.path.join(validation_dir, 'rock')\n",
        "val_paper = os.path.join(validation_dir, 'paper')\n",
        "val_scissors = os.path.join(validation_dir, 'scissors')\n",
        "\n",
        "# membuat directory baru di dalam directory train dan val\n",
        "if not os.path.exists(train_rock):\n",
        "  os.mkdir(train_rock)\n",
        "if not os.path.exists(train_paper):\n",
        "  os.mkdir(train_paper)\n",
        "if not os.path.exists(train_scissors):\n",
        "  os.mkdir(train_scissors)\n",
        "\n",
        "if not os.path.exists(val_rock):\n",
        "  os.mkdir(val_rock)\n",
        "if not os.path.exists(val_paper):\n",
        "  os.mkdir(val_paper)\n",
        "if not os.path.exists(val_scissors):\n",
        "  os.mkdir(val_scissors)"
      ],
      "execution_count": 15,
      "outputs": []
    },
    {
      "cell_type": "code",
      "metadata": {
        "id": "YPAFyFYHLO47"
      },
      "source": [
        "# copy data train dan data val ke direktori baru\n",
        "import shutil\n",
        "\n",
        "for i in train_rock_dir:\n",
        "  shutil.copy(os.path.join(rock_dir, i), os.path.join(train_rock, i))\n",
        "for i in train_paper_dir:\n",
        "  shutil.copy(os.path.join(paper_dir,i), os.path.join(train_paper,i))\n",
        "for i in train_scissors_dir:\n",
        "  shutil.copy(os.path.join(scissors_dir,i), os.path.join(train_scissors,i))\n",
        "\n",
        "for i in val_rock_dir:\n",
        "  shutil.copy(os.path.join(rock_dir, i), os.path.join(val_rock,i))\n",
        "for i in val_paper_dir:\n",
        "  shutil.copy(os.path.join(paper_dir,i), os.path.join(val_paper,i))\n",
        "for i in val_scissors_dir:\n",
        "  shutil.copy(os.path.join(scissors_dir,i), os.path.join(val_scissors,i))"
      ],
      "execution_count": 16,
      "outputs": []
    },
    {
      "cell_type": "code",
      "metadata": {
        "id": "UIkGEhzuLU4B",
        "outputId": "4c2b5b07-4532-48f9-875c-9b76115494ba",
        "colab": {
          "base_uri": "https://localhost:8080/",
          "height": 34
        }
      },
      "source": [
        "len(os.listdir('/tmp/rockpaperscissors/train/rock'))"
      ],
      "execution_count": 17,
      "outputs": [
        {
          "output_type": "execute_result",
          "data": {
            "text/plain": [
              "435"
            ]
          },
          "metadata": {
            "tags": []
          },
          "execution_count": 17
        }
      ]
    },
    {
      "cell_type": "code",
      "metadata": {
        "id": "6zy6IX9vLXgh",
        "outputId": "9dd6eb6b-d53d-413d-a0ca-011f1accaa3d",
        "colab": {
          "base_uri": "https://localhost:8080/",
          "height": 34
        }
      },
      "source": [
        "len(os.listdir('/tmp/rockpaperscissors/val/rock'))"
      ],
      "execution_count": 18,
      "outputs": [
        {
          "output_type": "execute_result",
          "data": {
            "text/plain": [
              "291"
            ]
          },
          "metadata": {
            "tags": []
          },
          "execution_count": 18
        }
      ]
    },
    {
      "cell_type": "code",
      "metadata": {
        "id": "R20GbQ1oLaR4",
        "outputId": "6580be50-69ba-4dba-9dc1-25cda2945e30",
        "colab": {
          "base_uri": "https://localhost:8080/",
          "height": 34
        }
      },
      "source": [
        "len(os.listdir('/tmp/rockpaperscissors/train/scissors'))"
      ],
      "execution_count": 19,
      "outputs": [
        {
          "output_type": "execute_result",
          "data": {
            "text/plain": [
              "450"
            ]
          },
          "metadata": {
            "tags": []
          },
          "execution_count": 19
        }
      ]
    },
    {
      "cell_type": "code",
      "metadata": {
        "id": "EHcnONF9LcXw",
        "outputId": "ec816b1a-a1a2-4769-ad7a-3ecc2bfb24da",
        "colab": {
          "base_uri": "https://localhost:8080/",
          "height": 34
        }
      },
      "source": [
        "len(os.listdir('/tmp/rockpaperscissors/val/scissors'))"
      ],
      "execution_count": 20,
      "outputs": [
        {
          "output_type": "execute_result",
          "data": {
            "text/plain": [
              "300"
            ]
          },
          "metadata": {
            "tags": []
          },
          "execution_count": 20
        }
      ]
    },
    {
      "cell_type": "code",
      "metadata": {
        "id": "H47GDR1XLeQq",
        "outputId": "1bbc35af-be23-49f5-b5a3-c47fcdc3e07e",
        "colab": {
          "base_uri": "https://localhost:8080/",
          "height": 34
        }
      },
      "source": [
        "len(os.listdir('/tmp/rockpaperscissors/train/paper'))"
      ],
      "execution_count": 21,
      "outputs": [
        {
          "output_type": "execute_result",
          "data": {
            "text/plain": [
              "427"
            ]
          },
          "metadata": {
            "tags": []
          },
          "execution_count": 21
        }
      ]
    },
    {
      "cell_type": "code",
      "metadata": {
        "id": "YXemg4VmLhA_",
        "outputId": "ccf9b873-7bc4-4ea2-ac47-a5c45ca2aa99",
        "colab": {
          "base_uri": "https://localhost:8080/",
          "height": 34
        }
      },
      "source": [
        "len(os.listdir('/tmp/rockpaperscissors/val/paper'))"
      ],
      "execution_count": 22,
      "outputs": [
        {
          "output_type": "execute_result",
          "data": {
            "text/plain": [
              "285"
            ]
          },
          "metadata": {
            "tags": []
          },
          "execution_count": 22
        }
      ]
    },
    {
      "cell_type": "code",
      "metadata": {
        "id": "W3nUsgEcLp-S"
      },
      "source": [
        "# membuat image data generator\n",
        "\n",
        "train_datagen = ImageDataGenerator(\n",
        "    rescale = 1./225,\n",
        "    rotation_range = 20,\n",
        "    horizontal_flip = True,\n",
        "    shear_range = 0.2,\n",
        "    fill_mode = 'nearest')\n",
        "\n",
        "test_datagen = ImageDataGenerator(\n",
        "    rescale = 1./225,\n",
        "    rotation_range = 20,\n",
        "    horizontal_flip = True,\n",
        "    shear_range = 0.2,\n",
        "    fill_mode = 'nearest')"
      ],
      "execution_count": 23,
      "outputs": []
    },
    {
      "cell_type": "code",
      "metadata": {
        "id": "ErCBzzRILs0P",
        "outputId": "1c9646b8-d11b-48d9-8741-68cbed60d5ed",
        "colab": {
          "base_uri": "https://localhost:8080/",
          "height": 51
        }
      },
      "source": [
        "train_generator = train_datagen.flow_from_directory(\n",
        "    train_dir,\n",
        "    target_size =(150,150),\n",
        "    batch_size = 32,\n",
        "    class_mode = 'categorical'\n",
        ")\n",
        "\n",
        "validation_generator = test_datagen.flow_from_directory(\n",
        "    validation_dir,\n",
        "    target_size = (150,150),\n",
        "    batch_size = 32,\n",
        "    class_mode = 'categorical'\n",
        ")"
      ],
      "execution_count": 27,
      "outputs": [
        {
          "output_type": "stream",
          "text": [
            "Found 1312 images belonging to 3 classes.\n",
            "Found 876 images belonging to 3 classes.\n"
          ],
          "name": "stdout"
        }
      ]
    },
    {
      "cell_type": "code",
      "metadata": {
        "id": "hU1LCtTxLv_3"
      },
      "source": [
        "# membuat model \n",
        "model = tf.keras.models.Sequential([\n",
        "  tf.keras.layers.Conv2D(32, (3,3), activation = 'relu', input_shape= (150,150,3)),\n",
        "  tf.keras.layers.MaxPooling2D(2,2),\n",
        "  tf.keras.layers.Conv2D(64,(3,3), activation= 'relu'),\n",
        "  tf.keras.layers.MaxPooling2D(2,2),\n",
        "  tf.keras.layers.Conv2D(128,(3,3), activation= 'relu'),\n",
        "  tf.keras.layers.MaxPooling2D(2,2),\n",
        "  tf.keras.layers.Conv2D(256,(3,3), activation= 'relu'),\n",
        "  tf.keras.layers.MaxPooling2D(2,2),\n",
        "  tf.keras.layers.Flatten(),\n",
        "  tf.keras.layers.Dense(512, activation= 'relu'),\n",
        "  tf.keras.layers.Dense(3, activation= 'softmax')\n",
        "])"
      ],
      "execution_count": 31,
      "outputs": []
    },
    {
      "cell_type": "code",
      "metadata": {
        "id": "BOYhsqFwLzVF"
      },
      "source": [
        "model.compile(loss = 'categorical_crossentropy',\n",
        "              optimizer = tf.optimizers.Adam(),\n",
        "              metrics=['accuracy'])"
      ],
      "execution_count": 34,
      "outputs": []
    },
    {
      "cell_type": "code",
      "metadata": {
        "id": "6jcxaY2UL15p",
        "outputId": "e6ba4c92-7766-450b-9a88-fc8fe4d36302",
        "colab": {
          "base_uri": "https://localhost:8080/",
          "height": 697
        }
      },
      "source": [
        "history = model.fit(\n",
        "    train_generator,\n",
        "    steps_per_epoch = 25,\n",
        "    epochs = 20,\n",
        "    validation_data = validation_generator,\n",
        "    validation_steps = 5,\n",
        "    verbose =2)"
      ],
      "execution_count": 35,
      "outputs": [
        {
          "output_type": "stream",
          "text": [
            "Epoch 1/20\n",
            "25/25 - 42s - loss: 1.2426 - accuracy: 0.3812 - val_loss: 1.0826 - val_accuracy: 0.5813\n",
            "Epoch 2/20\n",
            "25/25 - 42s - loss: 0.9395 - accuracy: 0.5900 - val_loss: 0.6081 - val_accuracy: 0.7875\n",
            "Epoch 3/20\n",
            "25/25 - 42s - loss: 0.4772 - accuracy: 0.8275 - val_loss: 0.3093 - val_accuracy: 0.9000\n",
            "Epoch 4/20\n",
            "25/25 - 42s - loss: 0.2830 - accuracy: 0.9087 - val_loss: 0.2545 - val_accuracy: 0.9187\n",
            "Epoch 5/20\n",
            "25/25 - 42s - loss: 0.2302 - accuracy: 0.9100 - val_loss: 0.2537 - val_accuracy: 0.9187\n",
            "Epoch 6/20\n",
            "25/25 - 42s - loss: 0.2292 - accuracy: 0.9212 - val_loss: 0.3443 - val_accuracy: 0.8687\n",
            "Epoch 7/20\n",
            "25/25 - 42s - loss: 0.1957 - accuracy: 0.9450 - val_loss: 0.1778 - val_accuracy: 0.9438\n",
            "Epoch 8/20\n",
            "25/25 - 42s - loss: 0.1582 - accuracy: 0.9425 - val_loss: 0.0927 - val_accuracy: 0.9750\n",
            "Epoch 9/20\n",
            "25/25 - 43s - loss: 0.1369 - accuracy: 0.9525 - val_loss: 0.1627 - val_accuracy: 0.9563\n",
            "Epoch 10/20\n",
            "25/25 - 43s - loss: 0.1106 - accuracy: 0.9625 - val_loss: 0.2157 - val_accuracy: 0.9062\n",
            "Epoch 11/20\n",
            "25/25 - 43s - loss: 0.1161 - accuracy: 0.9625 - val_loss: 0.2048 - val_accuracy: 0.9438\n",
            "Epoch 12/20\n",
            "25/25 - 43s - loss: 0.0866 - accuracy: 0.9750 - val_loss: 0.2255 - val_accuracy: 0.9563\n",
            "Epoch 13/20\n",
            "25/25 - 42s - loss: 0.1234 - accuracy: 0.9575 - val_loss: 0.1636 - val_accuracy: 0.9438\n",
            "Epoch 14/20\n",
            "25/25 - 42s - loss: 0.1041 - accuracy: 0.9787 - val_loss: 0.1064 - val_accuracy: 0.9625\n",
            "Epoch 15/20\n",
            "25/25 - 42s - loss: 0.0494 - accuracy: 0.9862 - val_loss: 0.2797 - val_accuracy: 0.9438\n",
            "Epoch 16/20\n",
            "25/25 - 42s - loss: 0.0562 - accuracy: 0.9825 - val_loss: 0.1002 - val_accuracy: 0.9750\n",
            "Epoch 17/20\n",
            "25/25 - 42s - loss: 0.1039 - accuracy: 0.9588 - val_loss: 0.0553 - val_accuracy: 0.9688\n",
            "Epoch 18/20\n",
            "25/25 - 42s - loss: 0.0785 - accuracy: 0.9737 - val_loss: 0.1616 - val_accuracy: 0.9625\n",
            "Epoch 19/20\n",
            "25/25 - 42s - loss: 0.0501 - accuracy: 0.9825 - val_loss: 0.1255 - val_accuracy: 0.9688\n",
            "Epoch 20/20\n",
            "25/25 - 42s - loss: 0.0561 - accuracy: 0.9800 - val_loss: 0.1081 - val_accuracy: 0.9625\n"
          ],
          "name": "stdout"
        }
      ]
    },
    {
      "cell_type": "code",
      "metadata": {
        "id": "jOIUD9yCPma7",
        "outputId": "a77b2251-9440-406b-fff2-7dd1b5ae1aae",
        "colab": {
          "base_uri": "https://localhost:8080/",
          "height": 499
        }
      },
      "source": [
        "# visualisasi hasil data training (Plot accuracy & loss model)\n",
        "\n",
        "import numpy as np\n",
        "from google.colab import files\n",
        "from keras.preprocessing import image\n",
        "import matplotlib.pyplot as plt\n",
        "import matplotlib.image as mpimg\n",
        "import matplotlib.pyplot as plt\n",
        "import matplotlib.image as mpimg\n",
        "%matplotlib inline\n",
        " \n",
        "\n",
        "acc = history.history['accuracy']\n",
        "val_acc = history.history['val_accuracy']\n",
        "\n",
        "loss = history.history['loss']\n",
        "val_loss = history.history['val_loss']\n",
        "\n",
        "epochs_range = range(20)\n",
        "\n",
        "plt.figure(figsize=(8, 8))\n",
        "plt.subplot(1, 2, 1)\n",
        "plt.plot(epochs_range, acc, label='Training Accuracy')\n",
        "plt.plot(epochs_range, val_acc, label='Validation Accuracy')\n",
        "plt.legend(loc='lower right')\n",
        "plt.title('Training and Validation Accuracy')\n",
        "\n",
        "plt.subplot(1, 2, 2)\n",
        "plt.plot(epochs_range, loss, label='Training Loss')\n",
        "plt.plot(epochs_range, val_loss, label='Validation Loss')\n",
        "plt.legend(loc='upper right')\n",
        "plt.title('Training and Validation Loss')\n",
        "plt.show()"
      ],
      "execution_count": 36,
      "outputs": [
        {
          "output_type": "display_data",
          "data": {
            "image/png": "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\n",
            "text/plain": [
              "<Figure size 576x576 with 2 Axes>"
            ]
          },
          "metadata": {
            "tags": [],
            "needs_background": "light"
          }
        }
      ]
    },
    {
      "cell_type": "code",
      "metadata": {
        "id": "WxVi0oE6PrwC",
        "outputId": "346dc273-addc-43c0-ad9a-8680ae608bab",
        "colab": {
          "resources": {
            "http://localhost:8080/nbextensions/google.colab/files.js": {
              "data": "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",
              "ok": true,
              "headers": [
                [
                  "content-type",
                  "application/javascript"
                ]
              ],
              "status": 200,
              "status_text": ""
            }
          },
          "base_uri": "https://localhost:8080/",
          "height": 395
        }
      },
      "source": [
        "import numpy as np\n",
        "from google.colab import files\n",
        "from keras.preprocessing import image\n",
        "import matplotlib.pyplot as plt\n",
        "import matplotlib.image as mpimg\n",
        "import matplotlib.pyplot as plt\n",
        "import matplotlib.image as mpimg\n",
        "%matplotlib inline\n",
        "\n",
        "uploaded = files.upload()\n",
        "\n",
        "for fn in uploaded.keys():\n",
        "\n",
        "  path = fn \n",
        "  img = image.load_img(path, target_size =(150,150))\n",
        "  imgplot = plt.imshow(img)\n",
        "  x = image.img_to_array(img)\n",
        "  x = np.expand_dims(x, axis=0)\n",
        "\n",
        "  images = np.vstack([x])\n",
        "  classes = model.predict(images, batch_size=10)\n",
        "\n",
        "  print(fn)\n",
        "  if classes[0,0]!=0:\n",
        "    print('paper')\n",
        "  elif classes[0,1]!=0:\n",
        "    print('rock')\n",
        "  else:\n",
        "    print('scissors')"
      ],
      "execution_count": 37,
      "outputs": [
        {
          "output_type": "display_data",
          "data": {
            "text/html": [
              "\n",
              "     <input type=\"file\" id=\"files-b275d4c1-4721-4672-b76f-b660ec1d2794\" name=\"files[]\" multiple disabled\n",
              "        style=\"border:none\" />\n",
              "     <output id=\"result-b275d4c1-4721-4672-b76f-b660ec1d2794\">\n",
              "      Upload widget is only available when the cell has been executed in the\n",
              "      current browser session. Please rerun this cell to enable.\n",
              "      </output>\n",
              "      <script src=\"/nbextensions/google.colab/files.js\"></script> "
            ],
            "text/plain": [
              "<IPython.core.display.HTML object>"
            ]
          },
          "metadata": {
            "tags": []
          }
        },
        {
          "output_type": "stream",
          "text": [
            "Saving depositphotos_201891706-stock-video-playing-rock-paper-scissors-close.jpg to depositphotos_201891706-stock-video-playing-rock-paper-scissors-close.jpg\n",
            "depositphotos_201891706-stock-video-playing-rock-paper-scissors-close.jpg\n",
            "paper\n"
          ],
          "name": "stdout"
        },
        {
          "output_type": "display_data",
          "data": {
            "image/png": "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\n",
            "text/plain": [
              "<Figure size 432x288 with 1 Axes>"
            ]
          },
          "metadata": {
            "tags": [],
            "needs_background": "light"
          }
        }
      ]
    },
    {
      "cell_type": "markdown",
      "metadata": {
        "id": "WjJgOkp9PxtO"
      },
    }
  ]
}
